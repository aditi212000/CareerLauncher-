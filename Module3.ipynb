{
 "cells": [
  {
   "cell_type": "code",
   "execution_count": 1,
   "metadata": {},
   "outputs": [],
   "source": [
    "import numpy as np\n",
    "import pandas as pd\n",
    "import matplotlib.pyplot as plt\n",
    "import seaborn as sns\n",
    "import warnings\n",
    "import datetime\n",
    "warnings.filterwarnings('ignore')\n",
    "%matplotlib inline"
   ]
  },
  {
   "cell_type": "code",
   "execution_count": 11,
   "metadata": {},
   "outputs": [],
   "source": [
    "df=pd.read_csv('GOLD.csv')"
   ]
  },
  {
   "cell_type": "code",
   "execution_count": 12,
   "metadata": {},
   "outputs": [],
   "source": [
    "df.set_index('Date',inplace=True)"
   ]
  },
  {
   "cell_type": "code",
   "execution_count": 13,
   "metadata": {},
   "outputs": [
    {
     "data": {
      "text/html": [
       "<div>\n",
       "<style scoped>\n",
       "    .dataframe tbody tr th:only-of-type {\n",
       "        vertical-align: middle;\n",
       "    }\n",
       "\n",
       "    .dataframe tbody tr th {\n",
       "        vertical-align: top;\n",
       "    }\n",
       "\n",
       "    .dataframe thead th {\n",
       "        text-align: right;\n",
       "    }\n",
       "</style>\n",
       "<table border=\"1\" class=\"dataframe\">\n",
       "  <thead>\n",
       "    <tr style=\"text-align: right;\">\n",
       "      <th></th>\n",
       "      <th>Price</th>\n",
       "      <th>Open</th>\n",
       "      <th>High</th>\n",
       "      <th>Low</th>\n",
       "      <th>Vol.</th>\n",
       "      <th>Change %</th>\n",
       "      <th>Pred</th>\n",
       "      <th>new</th>\n",
       "    </tr>\n",
       "    <tr>\n",
       "      <th>Date</th>\n",
       "      <th></th>\n",
       "      <th></th>\n",
       "      <th></th>\n",
       "      <th></th>\n",
       "      <th></th>\n",
       "      <th></th>\n",
       "      <th></th>\n",
       "      <th></th>\n",
       "    </tr>\n",
       "  </thead>\n",
       "  <tbody>\n",
       "    <tr>\n",
       "      <th>May 04, 2017</th>\n",
       "      <td>28060</td>\n",
       "      <td>28400</td>\n",
       "      <td>28482</td>\n",
       "      <td>28025</td>\n",
       "      <td>0.08K</td>\n",
       "      <td>-1.79%</td>\n",
       "      <td>738.0</td>\n",
       "      <td>117.570740</td>\n",
       "    </tr>\n",
       "    <tr>\n",
       "      <th>May 05, 2017</th>\n",
       "      <td>28184</td>\n",
       "      <td>28136</td>\n",
       "      <td>28382</td>\n",
       "      <td>28135</td>\n",
       "      <td>0.06K</td>\n",
       "      <td>0.44%</td>\n",
       "      <td>-146.0</td>\n",
       "      <td>295.430176</td>\n",
       "    </tr>\n",
       "    <tr>\n",
       "      <th>May 08, 2017</th>\n",
       "      <td>28119</td>\n",
       "      <td>28145</td>\n",
       "      <td>28255</td>\n",
       "      <td>28097</td>\n",
       "      <td>7.85K</td>\n",
       "      <td>-0.23%</td>\n",
       "      <td>30.0</td>\n",
       "      <td>132.123714</td>\n",
       "    </tr>\n",
       "    <tr>\n",
       "      <th>May 09, 2017</th>\n",
       "      <td>27981</td>\n",
       "      <td>28125</td>\n",
       "      <td>28192</td>\n",
       "      <td>27947</td>\n",
       "      <td>10.10K</td>\n",
       "      <td>-0.49%</td>\n",
       "      <td>357.0</td>\n",
       "      <td>101.298064</td>\n",
       "    </tr>\n",
       "    <tr>\n",
       "      <th>May 10, 2017</th>\n",
       "      <td>28007</td>\n",
       "      <td>28060</td>\n",
       "      <td>28146</td>\n",
       "      <td>27981</td>\n",
       "      <td>9.28K</td>\n",
       "      <td>0.09%</td>\n",
       "      <td>124.0</td>\n",
       "      <td>112.153318</td>\n",
       "    </tr>\n",
       "  </tbody>\n",
       "</table>\n",
       "</div>"
      ],
      "text/plain": [
       "              Price   Open   High    Low    Vol. Change %   Pred         new\n",
       "Date                                                                        \n",
       "May 04, 2017  28060  28400  28482  28025   0.08K   -1.79%  738.0  117.570740\n",
       "May 05, 2017  28184  28136  28382  28135   0.06K    0.44% -146.0  295.430176\n",
       "May 08, 2017  28119  28145  28255  28097   7.85K   -0.23%   30.0  132.123714\n",
       "May 09, 2017  27981  28125  28192  27947  10.10K   -0.49%  357.0  101.298064\n",
       "May 10, 2017  28007  28060  28146  27981   9.28K    0.09%  124.0  112.153318"
      ]
     },
     "execution_count": 13,
     "metadata": {},
     "output_type": "execute_result"
    }
   ],
   "source": [
    "df.head()"
   ]
  },
  {
   "cell_type": "code",
   "execution_count": 14,
   "metadata": {},
   "outputs": [],
   "source": [
    "df_droped=df.dropna()\n",
    "df_to_fill= df.iloc[411:,:]"
   ]
  },
  {
   "cell_type": "code",
   "execution_count": 15,
   "metadata": {},
   "outputs": [],
   "source": [
    "from sklearn.linear_model import LinearRegression"
   ]
  },
  {
   "cell_type": "code",
   "execution_count": 16,
   "metadata": {},
   "outputs": [],
   "source": [
    "#Linear regression\n",
    "\n",
    "X= df_droped[['Open','High','Low']].values\n",
    "pred= df_droped.Pred.values\n",
    "new=df_droped.new.values"
   ]
  },
  {
   "cell_type": "code",
   "execution_count": 17,
   "metadata": {},
   "outputs": [
    {
     "name": "stdout",
     "output_type": "stream",
     "text": [
      "pred's score= 0.7962059289157778\n",
      "pred's coeff= [ 1.87728492  0.55565405 -2.43980328] bias= 203.528385759998\n"
     ]
    }
   ],
   "source": [
    "reg= LinearRegression().fit(X,pred)\n",
    "print('pred\\'s score=', reg.score(X,pred))\n",
    "print('pred\\'s coeff=', reg.coef_, 'bias=', reg.intercept_)"
   ]
  },
  {
   "cell_type": "code",
   "execution_count": 18,
   "metadata": {},
   "outputs": [
    {
     "name": "stdout",
     "output_type": "stream",
     "text": [
      "new's score= 0.9052828458304785\n",
      "new's coeff= [-1.56905117  1.7921037  -0.22656291] bias= 203.528385759998\n"
     ]
    }
   ],
   "source": [
    "reg2=LinearRegression().fit(X,new)\n",
    "print('new\\'s score=', reg2.score(X,new))\n",
    "print('new\\'s coeff=', reg2.coef_, 'bias=', reg.intercept_)"
   ]
  },
  {
   "cell_type": "code",
   "execution_count": 19,
   "metadata": {},
   "outputs": [],
   "source": [
    "pred_to_fill= reg.predict(df_to_fill[['Open','High','Low']])\n",
    "new_predicted_pred= np.hstack((df_droped['Pred'].values,pred_to_fill))\n",
    "df.Pred=new_predicted_pred"
   ]
  },
  {
   "cell_type": "code",
   "execution_count": 20,
   "metadata": {},
   "outputs": [
    {
     "data": {
      "image/png": "[encoded data removed]",
      "text/plain": [
       "<Figure size 432x288 with 1 Axes>"
      ]
     },
     "metadata": {
      "needs_background": "light"
     },
     "output_type": "display_data"
    }
   ],
   "source": [
    "ax=sns.kdeplot(pred_to_fill,label='Predicted Entries',shade=True,color='r')\n",
    "ax=sns.kdeplot(df_droped['Pred'],label='Pred Entries',shade=True,color='b')"
   ]
  },
  {
   "cell_type": "code",
   "execution_count": 21,
   "metadata": {},
   "outputs": [
    {
     "name": "stdout",
     "output_type": "stream",
     "text": [
      "0.8159060375045242\n",
      "[ 0.00000000e+00  8.31012462e-01  4.41739689e+00 -4.79572276e+00\n",
      "  7.22421621e-04 -2.88457330e-03  1.50145869e-03  1.87985683e-03\n",
      " -1.03173471e-03 -1.94673740e-04]\n",
      "new's score = 0.9147522370857782\n",
      "new's coeff. =  [ 0.00000000e+00 -2.09388978e+00  3.74002532e+00 -1.41689019e+00\n",
      "  3.62468554e-04 -1.47862677e-03  7.85041523e-04  9.75820068e-04\n",
      " -5.52469295e-04 -9.59030628e-05]\n"
     ]
    }
   ],
   "source": [
    "#Polynomial regression\n",
    "from sklearn.preprocessing import PolynomialFeatures\n",
    "from sklearn.pipeline import Pipeline\n",
    "\n",
    "model=Pipeline([('poly', PolynomialFeatures(degree=2)), ('linear', LinearRegression())])\n",
    "\n",
    "model=model.fit(X,pred)\n",
    "print(model.score(X,pred))\n",
    "print(model.named_steps['linear'].coef_)\n",
    "\n",
    "model = model.fit(X, new)\n",
    "print('new\\'s score =', model.score(X, new))\n",
    "print('new\\'s coeff. = ', model.named_steps['linear'].coef_)"
   ]
  },
  {
   "cell_type": "code",
   "execution_count": 13,
   "metadata": {},
   "outputs": [
    {
     "name": "stdout",
     "output_type": "stream",
     "text": [
      "Since the new column is giving the Score for Simple Linear Regressionhigher than the pred's column Score hence i think  new is linear function ofOHL columns. Also the pred is polynomial function of OHL columns because it givesmore +ve change in Score than the linear one while comparing to the new column\n"
     ]
    }
   ],
   "source": [
    "print(f\"\"\"Since the new column is giving the Score for Simple Linear Regression\\\n",
    "higher than the pred's column Score hence i think  new is linear function of\\\n",
    "OHL columns. Also the pred is polynomial function of OHL columns because it gives\\\n",
    "more +ve change in Score than the linear one while comparing to the new column\"\"\")"
   ]
  },
  {
   "cell_type": "code",
   "execution_count": 2,
   "metadata": {},
   "outputs": [],
   "source": [
    "import statsmodels.api as sm"
   ]
  },
  {
   "cell_type": "code",
   "execution_count": 3,
   "metadata": {},
   "outputs": [],
   "source": [
    "data1=pd.read_csv('Mid_Cap\\PNB.csv') \n",
    "data2=pd.read_csv('Nifty50.csv')"
   ]
  },
  {
   "cell_type": "code",
   "execution_count": 8,
   "metadata": {},
   "outputs": [
    {
     "name": "stdout",
     "output_type": "stream",
     "text": [
      "                            OLS Regression Results                            \n",
      "==============================================================================\n",
      "Dep. Variable:            Close Price   R-squared:                       0.140\n",
      "Model:                            OLS   Adj. R-squared:                  0.139\n",
      "Method:                 Least Squares   F-statistic:                     80.14\n",
      "Date:                Sun, 12 Jul 2020   Prob (F-statistic):           7.22e-18\n",
      "Time:                        19:53:52   Log-Likelihood:                 1000.1\n",
      "No. Observations:                 493   AIC:                            -1996.\n",
      "Df Residuals:                     491   BIC:                            -1988.\n",
      "Df Model:                           1                                         \n",
      "Covariance Type:            nonrobust                                         \n",
      "==============================================================================\n",
      "                 coef    std err          t      P>|t|      [0.025      0.975]\n",
      "------------------------------------------------------------------------------\n",
      "const         -0.0016      0.001     -1.111      0.267      -0.004       0.001\n",
      "Close          1.7858      0.199      8.952      0.000       1.394       2.178\n",
      "==============================================================================\n",
      "Omnibus:                      591.251   Durbin-Watson:                   1.792\n",
      "Prob(Omnibus):                  0.000   Jarque-Bera (JB):           131029.504\n",
      "Skew:                           5.253   Prob(JB):                         0.00\n",
      "Kurtosis:                      82.173   Cond. No.                         139.\n",
      "==============================================================================\n",
      "\n",
      "Warnings:\n",
      "[1] Standard Errors assume that the covariance matrix of the errors is correctly specified.\n",
      "THe daily slope or BETA value is 1.7858421609801556\n"
     ]
    }
   ],
   "source": [
    "## DAILY VALUE RETURN \n",
    "\n",
    "Y=data1['Close Price'].pct_change().dropna(axis=0)\n",
    "X=data2['Close'].pct_change().dropna(axis=0)\n",
    "\n",
    "X1 = sm.add_constant(X)\n",
    "\n",
    "model = sm.OLS(Y, X1)\n",
    "\n",
    "results = model.fit()\n",
    "\n",
    "print(results.summary())\n",
    "print('The daily slope or BETA value is',results.params.Close)\n"
   ]
  },
  {
   "cell_type": "code",
   "execution_count": 9,
   "metadata": {},
   "outputs": [
    {
     "name": "stdout",
     "output_type": "stream",
     "text": [
      "The beta value is 1.785842 i.e more than 1 that means the PNB stock is more volatile than nifty\n"
     ]
    }
   ],
   "source": [
    "print('The beta value is 1.785842 i.e more than 1 that means the PNB stock is more volatile than nifty')"
   ]
  },
  {
   "cell_type": "code",
   "execution_count": 18,
   "metadata": {},
   "outputs": [],
   "source": [
    "#Montly\n",
    "data1['Date']=data1['Date'].astype(dtype='datetime64')\n",
    "data2['Date']=data2['Date'].astype(dtype='datetime64')"
   ]
  },
  {
   "cell_type": "code",
   "execution_count": 19,
   "metadata": {},
   "outputs": [],
   "source": [
    "data1.set_index('Date',inplace=True)\n",
    "data2.set_index('Date',inplace=True)"
   ]
  },
  {
   "cell_type": "code",
   "execution_count": 20,
   "metadata": {},
   "outputs": [
    {
     "name": "stdout",
     "output_type": "stream",
     "text": [
      "                            OLS Regression Results                            \n",
      "==============================================================================\n",
      "Dep. Variable:                    PNB   R-squared:                       0.409\n",
      "Model:                            OLS   Adj. R-squared:                  0.383\n",
      "Method:                 Least Squares   F-statistic:                     15.25\n",
      "Date:                Sun, 12 Jul 2020   Prob (F-statistic):           0.000759\n",
      "Time:                        13:30:15   Log-Likelihood:                 23.293\n",
      "No. Observations:                  24   AIC:                            -42.59\n",
      "Df Residuals:                      22   BIC:                            -40.23\n",
      "Df Model:                           1                                         \n",
      "Covariance Type:            nonrobust                                         \n",
      "==============================================================================\n",
      "                 coef    std err          t      P>|t|      [0.025      0.975]\n",
      "------------------------------------------------------------------------------\n",
      "const         -0.0406      0.020     -1.989      0.059      -0.083       0.002\n",
      "Nifty          2.8256      0.723      3.905      0.001       1.325       4.326\n",
      "==============================================================================\n",
      "Omnibus:                        3.141   Durbin-Watson:                   1.618\n",
      "Prob(Omnibus):                  0.208   Jarque-Bera (JB):                1.735\n",
      "Skew:                           0.625   Prob(JB):                        0.420\n",
      "Kurtosis:                       3.415   Cond. No.                         37.0\n",
      "==============================================================================\n",
      "\n",
      "Warnings:\n",
      "[1] Standard Errors assume that the covariance matrix of the errors is correctly specified.\n",
      "The monthly slope or BETA value is 2.8256015522469147\n"
     ]
    }
   ],
   "source": [
    "montly_return_df=pd.concat([data2['Close'].resample(\"M\").mean(),data1['Close Price'].resample(\"M\").mean()], axis=1)\n",
    "montly_return_df.columns=['Nifty','PNB']\n",
    "montly_return_df=montly_return_df.pct_change()\n",
    "montly_return_df.dropna(inplace=True)\n",
    "\n",
    "X=montly_return_df['Nifty']\n",
    "y=montly_return_df['PNB']\n",
    "\n",
    "X1=sm.add_constant(X)\n",
    "\n",
    "model1=sm.OLS(y,X1)\n",
    "result1=model1.fit()\n",
    "print(result1.summary())\n",
    "print('The monthly slope or BETA value is',result1.params.Nifty)"
   ]
  },
  {
   "cell_type": "code",
   "execution_count": 21,
   "metadata": {},
   "outputs": [
    {
     "name": "stdout",
     "output_type": "stream",
     "text": [
      "The beta value is 2.8256,i.e more than 1 that means the stock is more volatile than nifty\n"
     ]
    }
   ],
   "source": [
    "print(\"The beta value is 2.8256,i.e more than 1 that means the stock is more volatile than nifty\")"
   ]
  }
 ],
 "metadata": {
  "kernelspec": {
   "display_name": "Python 3",
   "language": "python",
   "name": "python3"
  },
  "language_info": {
   "codemirror_mode": {
    "name": "ipython",
    "version": 3
   },
   "file_extension": ".py",
   "mimetype": "text/x-python",
   "name": "python",
   "nbconvert_exporter": "python",
   "pygments_lexer": "ipython3",
   "version": "3.6.10"
  }
 },
 "nbformat": 4,
 "nbformat_minor": 4
}
